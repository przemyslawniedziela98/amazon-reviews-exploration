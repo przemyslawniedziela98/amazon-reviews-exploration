{
 "cells": [
  {
   "cell_type": "markdown",
   "metadata": {},
   "source": [
    "# Amazon Reviews Sentiment Modeling \n",
    "\n",
    "\n",
    "<b>Author:</b> Przemyslaw Niedziela (przemyslaw.niedziela98@gmail.com) <br> \n",
    "<b>Date:</b> Nov 2024 <br>\n",
    "<br> <br> \n",
    "\n",
    "TL;DR <br>\n",
    "WIP\n",
    "\n",
    "<br> <br> \n",
    "Table of contents: "
   ]
  },
  {
   "cell_type": "code",
   "execution_count": 53,
   "metadata": {},
   "outputs": [],
   "source": [
    "import re\n",
    "import warnings\n",
    "import numpy as np\n",
    "import pandas as pd\n",
    "import tensorflow as tf\n",
    "import matplotlib.pyplot as plt\n",
    "from nltk.corpus import stopwords\n",
    "from nltk.tokenize import word_tokenize\n",
    "from nltk.stem import WordNetLemmatizer\n",
    "from tensorflow.keras.models import Model\n",
    "from tensorflow.keras.layers import Input, Embedding, Dense, LSTM, Bidirectional, GlobalMaxPooling1D, Dropout\n",
    "from sklearn.feature_extraction.text import TfidfVectorizer\n",
    "from sklearn.model_selection import train_test_split\n",
    "from sklearn.metrics import f1_score\n",
    "from tensorflow.keras.preprocessing.sequence import pad_sequences\n",
    "from tensorflow.keras.preprocessing.text import Tokenizer\n",
    "from transformers import pipeline\n",
    "\n",
    "warnings.filterwarnings('ignore')"
   ]
  },
  {
   "cell_type": "code",
   "execution_count": 2,
   "metadata": {},
   "outputs": [],
   "source": [
    "DATASET_PATH = \"/Users/przemyslawniedziela/.cache/kagglehub/datasets/arhamrumi/amazon-product-reviews/versions/1/Reviews.csv\"\n",
    "\n",
    "CONTRACTIONS = {\n",
    "    \"n't\": \" not\", \"'re\": \" are\", \"'s\": \" is\", \"'d\": \" would\", \"'ll\": \" will\",\n",
    "    \"'t\": \" not\", \"'ve\": \" have\", \"'m\": \" am\"\n",
    "}"
   ]
  },
  {
   "cell_type": "markdown",
   "metadata": {},
   "source": [
    "### Preprocessing \n",
    "\n",
    "Expanding contractions, removing stopwords, lammatization and tokenization."
   ]
  },
  {
   "cell_type": "code",
   "execution_count": 3,
   "metadata": {},
   "outputs": [],
   "source": [
    "dataset = pd.read_csv(DATASET_PATH, index_col = [0])\n",
    "dataset_subset = dataset.sample(int(1e5))"
   ]
  },
  {
   "cell_type": "code",
   "execution_count": 4,
   "metadata": {},
   "outputs": [],
   "source": [
    "stop_words = set(stopwords.words('english'))\n",
    "lemmatizer = WordNetLemmatizer()"
   ]
  },
  {
   "cell_type": "code",
   "execution_count": 5,
   "metadata": {},
   "outputs": [],
   "source": [
    "def expand_contractions(text):\n",
    "    \"\"\"Expand common contractions in text.\"\"\"\n",
    "    for contraction, expanded in CONTRACTIONS.items():\n",
    "        text = re.sub(contraction, expanded, text)\n",
    "    return text\n",
    "\n",
    "def preprocess_text(text):\n",
    "    \"\"\"\n",
    "    Preprocess the input text by cleaning, normalizing, and tokenizing.\n",
    "\n",
    "    - Convert text to lowercase.\n",
    "    - Expand contractions.\n",
    "    - Remove punctuation and special characters.\n",
    "    - Remove numbers.\n",
    "    - Remove stopwords.\n",
    "    - Lemmatize the tokens to their base forms.\n",
    "    \"\"\"\n",
    "    text = expand_contractions(text.lower())\n",
    "    text = re.sub(r'[^a-z\\s]', '', text) \n",
    "    tokens = word_tokenize(text)  \n",
    "    tokens = [lemmatizer.lemmatize(token) for token in tokens if token not in stop_words]    \n",
    "    return ' '.join(tokens)\n",
    "\n",
    "text_data = dataset_subset['Text'].apply(preprocess_text)\n",
    "tokenizer = Tokenizer(num_words=20000)  \n",
    "tokenizer.fit_on_texts(text_data)\n",
    "sequences = tokenizer.texts_to_sequences(text_data)\n",
    "word_index = tokenizer.word_index\n",
    "\n",
    "data = pad_sequences(sequences, maxlen=100)"
   ]
  },
  {
   "cell_type": "markdown",
   "metadata": {},
   "source": [
    "### Using pre-trained model for labels  "
   ]
  },
  {
   "cell_type": "code",
   "execution_count": 9,
   "metadata": {},
   "outputs": [],
   "source": [
    "def generate_sentiment_labels_pretrained(text_data):\n",
    "    \"\"\"\n",
    "    Generates sentiment labels for a list of text data using a pre-trained sentiment analysis model.\n",
    "    \"\"\"\n",
    "\n",
    "    sentiment_analyzer = pipeline(\"sentiment-analysis\", \n",
    "                                model=\"distilbert-base-uncased-finetuned-sst-2-english\")\n",
    "\n",
    "    sentiment_labels = []\n",
    "    for text in text_data:\n",
    "        result = sentiment_analyzer(text[:512])\n",
    "        sentiment = result[0]['label']\n",
    "        sentiment_labels.append(1 if sentiment == \"POSITIVE\" else 0)\n",
    "\n",
    "    return np.array(sentiment_labels)\n",
    "\n",
    "pseudo_labels = generate_sentiment_labels_pretrained(text_data)\n"
   ]
  },
  {
   "cell_type": "code",
   "execution_count": 17,
   "metadata": {},
   "outputs": [
    {
     "name": "stdout",
     "output_type": "stream",
     "text": [
      "Pearson Correlation: 0.3671714006983607\n",
      "Spearman Correlation: 0.3495047063603504\n",
      "Best Threshold: 4 (F1-Score: 0.7146878178392059)\n"
     ]
    }
   ],
   "source": [
    "def analyze_correlation_and_find_threshold(dataset_subset, pseudo_labels):\n",
    "    \"\"\"\n",
    "    Analyzes the correlation between sentiment labels and scores and determines the optimal threshold \n",
    "    for binarizing the scores.\n",
    "    \"\"\"\n",
    "    scores = dataset_subset['Score'].values\n",
    "    correlation_pearson = np.corrcoef(scores, pseudo_labels)[0, 1]\n",
    "    correlation_spearman = pd.Series(scores).corr(pd.Series(pseudo_labels), method='spearman')\n",
    "    \n",
    "    best_f1, best_threshold = 0, None\n",
    "    thresholds = np.arange(1, 11) \n",
    "\n",
    "    for threshold in thresholds:\n",
    "        binary_labels = (scores >= threshold).astype(int)\n",
    "        current_f1 = f1_score(binary_labels, pseudo_labels)\n",
    "        \n",
    "        if current_f1 > best_f1:\n",
    "            best_f1 = current_f1\n",
    "            best_threshold = threshold\n",
    "    \n",
    "    return {\n",
    "        'pearson_correlation': correlation_pearson,\n",
    "        'spearman_correlation': correlation_spearman,\n",
    "        'best_threshold': best_threshold,\n",
    "        'best_f1_score': best_f1\n",
    "    }\n",
    "\n",
    "\n",
    "results = analyze_correlation_and_find_threshold(dataset_subset, pseudo_labels)\n",
    "print(f\"Pearson Correlation: {results['pearson_correlation']}\")\n",
    "print(f\"Spearman Correlation: {results['spearman_correlation']}\")\n",
    "print(f\"Best Threshold: {results['best_threshold']} (F1-Score: {results['best_f1_score']})\")\n"
   ]
  },
  {
   "cell_type": "code",
   "execution_count": 18,
   "metadata": {},
   "outputs": [],
   "source": [
    "labels = (dataset_subset['Score'] >= 4).astype(int).values"
   ]
  },
  {
   "cell_type": "code",
   "execution_count": 47,
   "metadata": {},
   "outputs": [],
   "source": [
    "def create_model(vocab_size, max_seq_len):\n",
    "    inputs = Input(shape=(max_seq_len,))\n",
    "    x = Embedding(input_dim=vocab_size, output_dim=128, input_length=max_seq_len)(inputs)\n",
    "    x = Bidirectional(LSTM(64, return_sequences=True))(x)\n",
    "    x = GlobalMaxPooling1D()(x)\n",
    "    x = Dropout(0.5)(x)\n",
    "    x = Dense(64, activation='relu')(x)\n",
    "    outputs = Dense(1, activation='sigmoid')(x) \n",
    "\n",
    "    return Model(inputs=inputs, outputs=outputs)\n",
    "\n",
    "\n",
    "model = create_model(min(len(word_index) + 1, 20000), 100)\n",
    "model.compile(optimizer='adam', loss='binary_crossentropy', metrics=['accuracy'])"
   ]
  },
  {
   "cell_type": "code",
   "execution_count": 52,
   "metadata": {},
   "outputs": [
    {
     "name": "stdout",
     "output_type": "stream",
     "text": [
      "Epoch 1/10\n",
      "\u001b[1m2000/2000\u001b[0m \u001b[32m━━━━━━━━━━━━━━━━━━━━\u001b[0m\u001b[37m\u001b[0m \u001b[1m106s\u001b[0m 53ms/step - accuracy: 0.9976 - loss: 0.0068 - val_accuracy: 0.9980 - val_loss: 0.0063\n",
      "Epoch 2/10\n",
      "\u001b[1m2000/2000\u001b[0m \u001b[32m━━━━━━━━━━━━━━━━━━━━\u001b[0m\u001b[37m\u001b[0m \u001b[1m9559s\u001b[0m 5s/step - accuracy: 0.9982 - loss: 0.0054 - val_accuracy: 0.9963 - val_loss: 0.0113\n",
      "Epoch 3/10\n",
      "\u001b[1m2000/2000\u001b[0m \u001b[32m━━━━━━━━━━━━━━━━━━━━\u001b[0m\u001b[37m\u001b[0m \u001b[1m106s\u001b[0m 53ms/step - accuracy: 0.9984 - loss: 0.0056 - val_accuracy: 0.9936 - val_loss: 0.0165\n",
      "Epoch 4/10\n",
      "\u001b[1m2000/2000\u001b[0m \u001b[32m━━━━━━━━━━━━━━━━━━━━\u001b[0m\u001b[37m\u001b[0m \u001b[1m102s\u001b[0m 51ms/step - accuracy: 0.9980 - loss: 0.0063 - val_accuracy: 0.9949 - val_loss: 0.0184\n",
      "Epoch 5/10\n",
      "\u001b[1m2000/2000\u001b[0m \u001b[32m━━━━━━━━━━━━━━━━━━━━\u001b[0m\u001b[37m\u001b[0m \u001b[1m111s\u001b[0m 56ms/step - accuracy: 0.9985 - loss: 0.0054 - val_accuracy: 0.9921 - val_loss: 0.0252\n",
      "Epoch 6/10\n",
      "\u001b[1m2000/2000\u001b[0m \u001b[32m━━━━━━━━━━━━━━━━━━━━\u001b[0m\u001b[37m\u001b[0m \u001b[1m113s\u001b[0m 57ms/step - accuracy: 0.9987 - loss: 0.0043 - val_accuracy: 0.9908 - val_loss: 0.0295\n",
      "Epoch 7/10\n",
      "\u001b[1m2000/2000\u001b[0m \u001b[32m━━━━━━━━━━━━━━━━━━━━\u001b[0m\u001b[37m\u001b[0m \u001b[1m108s\u001b[0m 54ms/step - accuracy: 0.9991 - loss: 0.0027 - val_accuracy: 0.9879 - val_loss: 0.0413\n",
      "Epoch 8/10\n",
      "\u001b[1m2000/2000\u001b[0m \u001b[32m━━━━━━━━━━━━━━━━━━━━\u001b[0m\u001b[37m\u001b[0m \u001b[1m100s\u001b[0m 50ms/step - accuracy: 0.9989 - loss: 0.0042 - val_accuracy: 0.9881 - val_loss: 0.0360\n",
      "Epoch 9/10\n",
      "\u001b[1m2000/2000\u001b[0m \u001b[32m━━━━━━━━━━━━━━━━━━━━\u001b[0m\u001b[37m\u001b[0m \u001b[1m99s\u001b[0m 50ms/step - accuracy: 0.9988 - loss: 0.0034 - val_accuracy: 0.9875 - val_loss: 0.0540\n",
      "Epoch 10/10\n",
      "\u001b[1m2000/2000\u001b[0m \u001b[32m━━━━━━━━━━━━━━━━━━━━\u001b[0m\u001b[37m\u001b[0m \u001b[1m112s\u001b[0m 56ms/step - accuracy: 0.9993 - loss: 0.0021 - val_accuracy: 0.9844 - val_loss: 0.0589\n"
     ]
    }
   ],
   "source": [
    "labels_train = np.array(labels)\n",
    "\n",
    "X_train, X_test, y_train, y_test = train_test_split(data, labels_train, test_size=0.2, random_state=42)\n",
    "history = model.fit(X_train, y_train, batch_size=32, epochs=10, validation_split=0.2)"
   ]
  },
  {
   "cell_type": "code",
   "execution_count": 55,
   "metadata": {},
   "outputs": [
    {
     "name": "stdout",
     "output_type": "stream",
     "text": [
      "\u001b[1m625/625\u001b[0m \u001b[32m━━━━━━━━━━━━━━━━━━━━\u001b[0m\u001b[37m\u001b[0m \u001b[1m10s\u001b[0m 15ms/step - accuracy: 0.8740 - loss: 1.5817\n",
      "Test Loss: 1.5392\n",
      "Test Accuracy: 0.8744\n"
     ]
    }
   ],
   "source": [
    "loss, accuracy = model.evaluate(X_test, y_test, verbose=1)\n",
    "\n",
    "print(f\"Test Loss: {loss:.4f}\")\n",
    "print(f\"Test Accuracy: {accuracy:.4f}\")"
   ]
  },
  {
   "cell_type": "code",
   "execution_count": 54,
   "metadata": {},
   "outputs": [
    {
     "data": {
      "image/png": "[encoded data removed]",
      "text/plain": [
       "<Figure size 800x600 with 1 Axes>"
      ]
     },
     "metadata": {},
     "output_type": "display_data"
    }
   ],
   "source": [
    "training_loss = history.history['loss']\n",
    "validation_loss = history.history.get('val_loss')\n",
    "\n",
    "plt.figure(figsize=(8, 6))\n",
    "plt.plot(training_loss, label='Training Loss', marker='o')\n",
    "if validation_loss is not None:\n",
    "    plt.plot(validation_loss, label='Validation Loss', marker='o')\n",
    "plt.title('Training and Validation Loss Over Epochs')\n",
    "plt.xlabel('Epochs')\n",
    "plt.ylabel('Loss')\n",
    "plt.legend()\n",
    "plt.grid(True)\n",
    "plt.show()\n"
   ]
  },
  {
   "cell_type": "code",
   "execution_count": 26,
   "metadata": {},
   "outputs": [
    {
     "name": "stdout",
     "output_type": "stream",
     "text": [
      "\u001b[1m4/4\u001b[0m \u001b[32m━━━━━━━━━━━━━━━━━━━━\u001b[0m\u001b[37m\u001b[0m \u001b[1m0s\u001b[0m 14ms/step \n"
     ]
    }
   ],
   "source": [
    "new_texts = dataset.sample(10)\n",
    "text_data = new_texts['Text'].apply(preprocess_text)\n",
    "new_sequences = tokenizer.texts_to_sequences(text_data)\n",
    "new_data = pad_sequences(new_sequences, maxlen=100)\n",
    "\n",
    "predictions = model.predict(new_data)\n",
    "predicted_labels = (predictions > 0.5).astype(int)"
   ]
  }
 ],
 "metadata": {
  "kernelspec": {
   "display_name": "Python 3",
   "language": "python",
   "name": "python3"
  },
  "language_info": {
   "codemirror_mode": {
    "name": "ipython",
    "version": 3
   },
   "file_extension": ".py",
   "mimetype": "text/x-python",
   "name": "python",
   "nbconvert_exporter": "python",
   "pygments_lexer": "ipython3",
   "version": "3.12.7"
  }
 },
 "nbformat": 4,
 "nbformat_minor": 2
}
