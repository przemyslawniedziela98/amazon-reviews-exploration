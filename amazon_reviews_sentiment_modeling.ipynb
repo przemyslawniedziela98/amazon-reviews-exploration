{
 "cells": [
  {
   "cell_type": "markdown",
   "metadata": {},
   "source": [
    "# Amazon Reviews Sentiment Modeling \n",
    "\n",
    "\n",
    "<b>Author:</b> Przemyslaw Niedziela (przemyslaw.niedziela98@gmail.com) <br> \n",
    "<b>Date:</b> Nov 2024 <br>\n",
    "<br> <br> \n",
    "\n",
    "TL;DR <br>\n",
    "WIP\n",
    "\n",
    "<br> <br> \n",
    "Table of contents: "
   ]
  },
  {
   "cell_type": "code",
   "execution_count": 2,
   "metadata": {},
   "outputs": [],
   "source": [
    "import re\n",
    "import numpy as np\n",
    "import pandas as pd\n",
    "import tensorflow as tf\n",
    "from nltk.corpus import stopwords\n",
    "from nltk.tokenize import word_tokenize\n",
    "from nltk.stem import WordNetLemmatizer\n",
    "from tensorflow.keras.models import Model\n",
    "from tensorflow.keras.layers import Input, Embedding, Dense, LSTM, Bidirectional, GlobalMaxPooling1D, Dropout\n",
    "from sklearn.feature_extraction.text import TfidfVectorizer\n",
    "from sklearn.cluster import KMeans\n",
    "from sklearn.preprocessing import MultiLabelBinarizer\n",
    "from sklearn.model_selection import train_test_split\n",
    "from tensorflow.keras.preprocessing.sequence import pad_sequences\n",
    "from tensorflow.keras.preprocessing.text import Tokenizer\n"
   ]
  },
  {
   "cell_type": "code",
   "execution_count": 3,
   "metadata": {},
   "outputs": [],
   "source": [
    "DATASET_PATH = \"/Users/przemyslawniedziela/.cache/kagglehub/datasets/arhamrumi/amazon-product-reviews/versions/1/Reviews.csv\"\n",
    "\n",
    "CONTRACTIONS = {\n",
    "    \"n't\": \" not\", \"'re\": \" are\", \"'s\": \" is\", \"'d\": \" would\", \"'ll\": \" will\",\n",
    "    \"'t\": \" not\", \"'ve\": \" have\", \"'m\": \" am\"\n",
    "}"
   ]
  },
  {
   "cell_type": "markdown",
   "metadata": {},
   "source": [
    "### Preprocessing \n",
    "\n",
    "Expanding contractions, removing stopwords, lammatization and tokenization."
   ]
  },
  {
   "cell_type": "code",
   "execution_count": 4,
   "metadata": {},
   "outputs": [],
   "source": [
    "dataset = pd.read_csv(DATASET_PATH, index_col = [0])"
   ]
  },
  {
   "cell_type": "code",
   "execution_count": null,
   "metadata": {},
   "outputs": [],
   "source": [
    "stop_words = set(stopwords.words('english'))\n",
    "lemmatizer = WordNetLemmatizer()"
   ]
  },
  {
   "cell_type": "code",
   "execution_count": 7,
   "metadata": {},
   "outputs": [],
   "source": [
    "def expand_contractions(text):\n",
    "    \"\"\"Expand common contractions in text.\"\"\"\n",
    "    for contraction, expanded in CONTRACTIONS.items():\n",
    "        text = re.sub(contraction, expanded, text)\n",
    "    return text\n",
    "\n",
    "def preprocess_text(text):\n",
    "    \"\"\"\n",
    "    Preprocess the input text by cleaning, normalizing, and tokenizing.\n",
    "\n",
    "    - Convert text to lowercase.\n",
    "    - Expand contractions.\n",
    "    - Remove punctuation and special characters.\n",
    "    - Remove numbers.\n",
    "    - Remove stopwords.\n",
    "    - Lemmatize the tokens to their base forms.\n",
    "    \"\"\"\n",
    "    text = expand_contractions(text.lower())\n",
    "    text = re.sub(r'[^a-z\\s]', '', text) \n",
    "    tokens = word_tokenize(text)  \n",
    "    tokens = [lemmatizer.lemmatize(token) for token in tokens if token not in stop_words]    \n",
    "    return ' '.join(tokens)\n",
    "\n",
    "dataset['clean_text'] = dataset['Text'].apply(preprocess_text)\n",
    "\n",
    "text_data = dataset['clean_text']\n",
    "tokenizer = Tokenizer(num_words=20000)  \n",
    "tokenizer.fit_on_texts(text_data)\n",
    "sequences = tokenizer.texts_to_sequences(text_data)\n",
    "word_index = tokenizer.word_index\n",
    "\n",
    "data = pad_sequences(sequences, maxlen=100)\n"
   ]
  },
  {
   "cell_type": "code",
   "execution_count": 9,
   "metadata": {},
   "outputs": [],
   "source": [
    "vectorizer = TfidfVectorizer(max_features=5000)\n",
    "X_tfidf = vectorizer.fit_transform(text_data)\n",
    "\n",
    "n_clusters = 2  \n",
    "kmeans = KMeans(n_clusters=n_clusters, random_state=0)\n",
    "pseudo_labels = kmeans.fit_predict(X_tfidf)\n",
    "\n",
    "mlb = MultiLabelBinarizer()\n",
    "cluster_labels = mlb.fit_transform([[label] for label in pseudo_labels])\n"
   ]
  },
  {
   "cell_type": "code",
   "execution_count": 10,
   "metadata": {},
   "outputs": [
    {
     "name": "stderr",
     "output_type": "stream",
     "text": [
      "/Library/Frameworks/Python.framework/Versions/3.12/lib/python3.12/site-packages/keras/src/layers/core/embedding.py:90: UserWarning: Argument `input_length` is deprecated. Just remove it.\n",
      "  warnings.warn(\n"
     ]
    }
   ],
   "source": [
    "def create_model(vocab_size, max_seq_len, num_labels):\n",
    "    inputs = Input(shape=(max_seq_len,))\n",
    "    x = Embedding(input_dim=vocab_size, output_dim=128, input_length=max_seq_len)(inputs)\n",
    "    x = Bidirectional(LSTM(64, return_sequences=True))(x)\n",
    "    x = GlobalMaxPooling1D()(x)\n",
    "    x = Dropout(0.5)(x)\n",
    "    x = Dense(64, activation='relu')(x)\n",
    "    outputs = Dense(num_labels, activation='sigmoid')(x) \n",
    "    \n",
    "    model = Model(inputs=inputs, outputs=outputs)\n",
    "    return model\n",
    "\n",
    "num_labels = cluster_labels.shape[1]\n",
    "vocab_size = min(len(word_index) + 1, 20000) \n",
    "model = create_model(vocab_size, max_seq_len, num_labels)\n",
    "\n",
    "model.compile(optimizer='adam', loss='binary_crossentropy', metrics=['accuracy'])\n"
   ]
  },
  {
   "cell_type": "code",
   "execution_count": null,
   "metadata": {},
   "outputs": [
    {
     "name": "stdout",
     "output_type": "stream",
     "text": [
      "Epoch 1/10\n",
      "\u001b[1m14212/14212\u001b[0m \u001b[32m━━━━━━━━━━━━━━━━━━━━\u001b[0m\u001b[37m\u001b[0m \u001b[1m11697s\u001b[0m 823ms/step - accuracy: 0.8797 - loss: 0.1157 - val_accuracy: 0.9399 - val_loss: 0.0585\n",
      "Epoch 2/10\n",
      "\u001b[1m 5076/14212\u001b[0m \u001b[32m━━━━━━━\u001b[0m\u001b[37m━━━━━━━━━━━━━\u001b[0m \u001b[1m8:45\u001b[0m 58ms/step - accuracy: 0.9508 - loss: 0.0496"
     ]
    }
   ],
   "source": [
    "X_train, X_val, y_train, y_val = train_test_split(data, cluster_labels, test_size=0.2, random_state=42)\n",
    "\n",
    "history = model.fit(X_train, y_train, epochs=10, batch_size=32, validation_data=(X_val, y_val))\n"
   ]
  }
 ],
 "metadata": {
  "kernelspec": {
   "display_name": "Python 3",
   "language": "python",
   "name": "python3"
  },
  "language_info": {
   "codemirror_mode": {
    "name": "ipython",
    "version": 3
   },
   "file_extension": ".py",
   "mimetype": "text/x-python",
   "name": "python",
   "nbconvert_exporter": "python",
   "pygments_lexer": "ipython3",
   "version": "3.12.7"
  }
 },
 "nbformat": 4,
 "nbformat_minor": 2
}
